{
  "cells": [
    {
      "cell_type": "markdown",
      "metadata": {
        "id": "view-in-github",
        "colab_type": "text"
      },
      "source": [
        "<a href=\"https://colab.research.google.com/github/Garuooo/One-Shot-Face-Recognition-App/blob/main/face_recoginition_app.ipynb\" target=\"_parent\"><img src=\"https://colab.research.google.com/assets/colab-badge.svg\" alt=\"Open In Colab\"/></a>"
      ]
    },
    {
      "cell_type": "markdown",
      "metadata": {
        "id": "mw_0Bf9LOEWL"
      },
      "source": [
        "## 1.1 install Dependencies"
      ]
    },
    {
      "cell_type": "code",
      "execution_count": 1,
      "metadata": {
        "id": "ELokW39eOJms"
      },
      "outputs": [],
      "source": [
        "# !pip install tensorflow==2.4.1 tensorflow-gpu==2.4.1 opencv-python matplotlib"
      ]
    },
    {
      "cell_type": "markdown",
      "metadata": {
        "id": "IoIjJY7tOT_A"
      },
      "source": [
        "## 1.2 Import Dependencies"
      ]
    },
    {
      "cell_type": "code",
      "execution_count": 2,
      "metadata": {
        "id": "HP0Lc-qIm-lO"
      },
      "outputs": [],
      "source": [
        "import cv2 as cv\n",
        "import pandas as pd\n",
        "import numpy as np\n",
        "import matplotlib.pyplot as plt\n",
        "import matplotlib.image as imgplt\n",
        "import random\n",
        "import os"
      ]
    },
    {
      "cell_type": "code",
      "execution_count": 3,
      "metadata": {
        "id": "rZ7Oy-Z6nbVA"
      },
      "outputs": [],
      "source": [
        "import tensorflow as tf\n",
        "from tensorflow.keras.models import Model\n",
        "from tensorflow.keras.layers import Layer,Conv2D,MaxPooling2D,Input,Flatten,Dense"
      ]
    },
    {
      "cell_type": "code",
      "execution_count": 139,
      "metadata": {
        "id": "Sce04zjRQDe-"
      },
      "outputs": [],
      "source": [
        "# set paths\n",
        "POS_PATH = os.path.join(\"data\",\"postive\")\n",
        "NEG_PATH = os.path.join(\"data\",\"negative\")\n",
        "ANC_PATH = os.path.join(\"data\",\"anchor\")"
      ]
    },
    {
      "cell_type": "code",
      "execution_count": 104,
      "metadata": {
        "colab": {
          "base_uri": "https://localhost:8080/"
        },
        "id": "sHP3q217Q5gt",
        "outputId": "3709e9df-b4f8-4607-f75f-a3a4e7a74f37"
      },
      "outputs": [
        {
          "output_type": "stream",
          "name": "stdout",
          "text": [
            "Looking in indexes: https://pypi.org/simple, https://us-python.pkg.dev/colab-wheels/public/simple/\n",
            "Requirement already satisfied: unrar in /usr/local/lib/python3.7/dist-packages (0.4)\n",
            "\n",
            "UNRAR 5.50 freeware      Copyright (c) 1993-2017 Alexander Roshal\n",
            "\n",
            "Cannot open /content/data.rar\n",
            "No such file or directory\n",
            "No files to extract\n"
          ]
        }
      ],
      "source": [
        "!pip install unrar\n",
        "!unrar x /content/data.rar"
      ]
    },
    {
      "cell_type": "markdown",
      "metadata": {
        "id": "J7lQ3CeoSrg_"
      },
      "source": [
        "## 2.2 Collect Postive and Anchor Classes"
      ]
    },
    {
      "cell_type": "code",
      "execution_count": 140,
      "metadata": {
        "id": "SFBiCWn7S_xf"
      },
      "outputs": [],
      "source": [
        "# Import uuid libarary to generate unique image names\n",
        "import uuid"
      ]
    },
    {
      "cell_type": "code",
      "execution_count": 141,
      "metadata": {
        "id": "hD65znf8UUxa"
      },
      "outputs": [],
      "source": [
        "anchor = tf.data.Dataset.list_files(ANC_PATH+\"/*.jpg\").take(300)\n",
        "positive = tf.data.Dataset.list_files(POS_PATH+\"/*.jpg\").take(300)\n",
        "negative = tf.data.Dataset.list_files(NEG_PATH+\"/*.jpg\").take(300)"
      ]
    },
    {
      "cell_type": "code",
      "execution_count": 142,
      "metadata": {
        "id": "_OS848agWJST"
      },
      "outputs": [],
      "source": [
        "def preprocess(filepath):\n",
        "    #read image from file path\n",
        "    byte_img = tf.io.read_file(filepath)\n",
        "    #load in the image\n",
        "    img = tf.io.decode_jpeg(byte_img)\n",
        "    img = tf.image.resize(img,size=(100,100))\n",
        "    img = tf.cast(img,tf.float32)/255.0\n",
        "    return img\n",
        "    "
      ]
    },
    {
      "cell_type": "code",
      "source": [
        "anchor"
      ],
      "metadata": {
        "colab": {
          "base_uri": "https://localhost:8080/"
        },
        "id": "F3kgJhwnwcbY",
        "outputId": "024888ba-b24c-419b-bd49-5d84aeba39de"
      },
      "execution_count": 143,
      "outputs": [
        {
          "output_type": "execute_result",
          "data": {
            "text/plain": [
              "<TakeDataset element_spec=TensorSpec(shape=(), dtype=tf.string, name=None)>"
            ]
          },
          "metadata": {},
          "execution_count": 143
        }
      ]
    },
    {
      "cell_type": "code",
      "execution_count": 159,
      "metadata": {
        "id": "O6xbI1AHWS0Z"
      },
      "outputs": [],
      "source": [
        "positives = tf.data.Dataset.zip(((positive, anchor), tf.data.Dataset.from_tensor_slices(tf.ones(len(positive)))))\n",
        "negatives = tf.data.Dataset.zip(((positive, negative), tf.data.Dataset.from_tensor_slices(tf.zeros(len(negative)))))\n",
        "data = positives.concatenate(negatives)\n",
        "data = data.shuffle(3000)"
      ]
    },
    {
      "cell_type": "code",
      "execution_count": 156,
      "metadata": {
        "id": "vXI2CdFZWZha"
      },
      "outputs": [],
      "source": [
        "def preproces_helper(images,label):\n",
        "    return ((preprocess(images[0]),preprocess(images[1])),label)"
      ]
    },
    {
      "cell_type": "code",
      "execution_count": 160,
      "metadata": {
        "colab": {
          "base_uri": "https://localhost:8080/"
        },
        "id": "u8evvMAjWbP5",
        "outputId": "81bc0e60-8ef6-4050-e45e-66a81776934a"
      },
      "outputs": [
        {
          "output_type": "execute_result",
          "data": {
            "text/plain": [
              "<CacheDataset element_spec=((TensorSpec(shape=(100, 100, None), dtype=tf.float32, name=None), TensorSpec(shape=(100, 100, None), dtype=tf.float32, name=None)), TensorSpec(shape=(), dtype=tf.float32, name=None))>"
            ]
          },
          "metadata": {},
          "execution_count": 160
        }
      ],
      "source": [
        "# build a dataloader pipeline\n",
        "data = data.map(preproces_helper)\n",
        "data.cache()"
      ]
    },
    {
      "cell_type": "code",
      "execution_count": 161,
      "metadata": {
        "id": "MzRRLpg8Wdqx"
      },
      "outputs": [],
      "source": [
        "# training dataset\n",
        "train_data = data.take(round(len(data)*0.9))\n",
        "# turn training data into batches\n",
        "train_data =train_data.batch(32)"
      ]
    },
    {
      "cell_type": "code",
      "execution_count": 162,
      "metadata": {
        "id": "QS0gkvr4WfUK"
      },
      "outputs": [],
      "source": [
        "test_data = data.skip(round(len(data)*0.9))\n",
        "#turn test_data into batches\n",
        "test_data = test_data.batch(32)"
      ]
    },
    {
      "cell_type": "code",
      "source": [
        "len(train_data.as_numpy_iterator().next())"
      ],
      "metadata": {
        "colab": {
          "base_uri": "https://localhost:8080/"
        },
        "id": "R55-lUXJvqPU",
        "outputId": "c9abb442-3356-4b7a-f8df-d7a4fc27eb3c"
      },
      "execution_count": 163,
      "outputs": [
        {
          "output_type": "execute_result",
          "data": {
            "text/plain": [
              "2"
            ]
          },
          "metadata": {},
          "execution_count": 163
        }
      ]
    },
    {
      "cell_type": "code",
      "execution_count": 164,
      "metadata": {
        "id": "kWsAqCRRWgpK"
      },
      "outputs": [],
      "source": [
        "def make_embedding():\n",
        "    inp = Input(shape=(100,100,3),name=\"input_image\")\n",
        "    c1 = Conv2D(filters=64,kernel_size=(10,10),activation='relu')(inp)\n",
        "    m1 = MaxPooling2D(64,(2,2),padding=\"same\")(c1)\n",
        "    c2= Conv2D(filters=128,kernel_size=(7,7),activation=\"relu\")(m1)\n",
        "    m2 = MaxPooling2D(64,(2,2),padding=\"same\")(c2)\n",
        "    c3= Conv2D(filters=128,kernel_size=(4,4),activation=\"relu\")(m2)\n",
        "    m3 = MaxPooling2D(64,(2,2),padding=\"same\")(c3)\n",
        "    c4= Conv2D(filters=256,kernel_size=(4,4),activation=\"relu\")(m3)\n",
        "    f1= Flatten()(c4)\n",
        "    output=Dense(4096,activation='sigmoid')(f1)\n",
        "    model = Model(inputs=inp,outputs=output,name=\"embedding\")\n",
        "    return model"
      ]
    },
    {
      "cell_type": "code",
      "execution_count": 165,
      "metadata": {
        "id": "1BFnGkdfWh9C"
      },
      "outputs": [],
      "source": [
        "class L1Dist(Layer):\n",
        "    def __init__(self,**kwargs):\n",
        "        super().__init__()\n",
        "    \n",
        "    def call(self,input_embedding,validation_embedding):\n",
        "        return tf.math.abs(input_embedding-validation_embedding)\n"
      ]
    },
    {
      "cell_type": "code",
      "execution_count": 166,
      "metadata": {
        "id": "Nudqec_yWjaE"
      },
      "outputs": [],
      "source": [
        "def make_siamese_model():\n",
        "    # input images\n",
        "    input_image = Input(shape=(100,100,3),name='input_image')\n",
        "    validation_image = Input(shape=(100,100,3),name='valdiation_image')\n",
        "    \n",
        "    # make embedding layer\n",
        "    embedding = make_embedding()\n",
        "    \n",
        "    #combine siamese distances\n",
        "    siamese_layer = L1Dist()\n",
        "    distances = siamese_layer(embedding(input_image),embedding(validation_image))\n",
        "    \n",
        "    # Classifier Layer\n",
        "    classifier = Dense(1,activation='sigmoid')(distances)\n",
        "    \n",
        "    return Model(inputs=[input_image,validation_image],outputs=[classifier])\n",
        "    "
      ]
    },
    {
      "cell_type": "code",
      "execution_count": 167,
      "metadata": {
        "id": "6k1VOflIWn_S"
      },
      "outputs": [],
      "source": [
        "siamese_model = make_siamese_model()"
      ]
    },
    {
      "cell_type": "code",
      "execution_count": 168,
      "metadata": {
        "colab": {
          "base_uri": "https://localhost:8080/"
        },
        "id": "LqaF4JdIWpxq",
        "outputId": "5e9cdc1f-2e5c-468c-a3ab-70b3a82e5264"
      },
      "outputs": [
        {
          "output_type": "stream",
          "name": "stdout",
          "text": [
            "Model: \"model_7\"\n",
            "__________________________________________________________________________________________________\n",
            " Layer (type)                   Output Shape         Param #     Connected to                     \n",
            "==================================================================================================\n",
            " input_image (InputLayer)       [(None, 100, 100, 3  0           []                               \n",
            "                                )]                                                                \n",
            "                                                                                                  \n",
            " valdiation_image (InputLayer)  [(None, 100, 100, 3  0           []                               \n",
            "                                )]                                                                \n",
            "                                                                                                  \n",
            " embedding (Functional)         (None, 4096)         38960448    ['input_image[0][0]',            \n",
            "                                                                  'valdiation_image[0][0]']       \n",
            "                                                                                                  \n",
            " l1_dist_7 (L1Dist)             (None, 4096)         0           ['embedding[0][0]',              \n",
            "                                                                  'embedding[1][0]']              \n",
            "                                                                                                  \n",
            " dense_15 (Dense)               (None, 1)            4097        ['l1_dist_7[0][0]']              \n",
            "                                                                                                  \n",
            "==================================================================================================\n",
            "Total params: 38,964,545\n",
            "Trainable params: 38,964,545\n",
            "Non-trainable params: 0\n",
            "__________________________________________________________________________________________________\n"
          ]
        }
      ],
      "source": [
        "siamese_model.summary()"
      ]
    },
    {
      "cell_type": "code",
      "source": [
        "siamese_model.compile(loss=tf.keras.losses.binary_crossentropy,optimizer=tf.keras.optimizers.Adam(learning_rate = 3e-4)\n",
        "                        ,metrics=[\"accuracy\"])"
      ],
      "metadata": {
        "id": "xyqDslqtspdW"
      },
      "execution_count": 169,
      "outputs": []
    },
    {
      "cell_type": "code",
      "execution_count": 170,
      "metadata": {
        "colab": {
          "base_uri": "https://localhost:8080/"
        },
        "id": "F0Zabc1aWqt6",
        "outputId": "fd8ea0a7-0072-47a9-a05e-17e700658b43"
      },
      "outputs": [
        {
          "output_type": "stream",
          "name": "stdout",
          "text": [
            "Epoch 1/30\n",
            "15/15 [==============================] - 17s 514ms/step - loss: 0.4916 - accuracy: 0.6021 - val_loss: 0.3404 - val_accuracy: 0.7115\n",
            "Epoch 2/30\n",
            "15/15 [==============================] - 6s 379ms/step - loss: 0.3096 - accuracy: 0.8255 - val_loss: 0.0854 - val_accuracy: 0.9808\n",
            "Epoch 3/30\n",
            "15/15 [==============================] - 6s 374ms/step - loss: 0.3411 - accuracy: 0.7745 - val_loss: 0.3369 - val_accuracy: 0.8846\n",
            "Epoch 4/30\n",
            "15/15 [==============================] - 6s 373ms/step - loss: 0.3957 - accuracy: 0.7915 - val_loss: 0.5566 - val_accuracy: 0.6154\n",
            "Epoch 5/30\n",
            "15/15 [==============================] - 5s 368ms/step - loss: 0.4702 - accuracy: 0.6617 - val_loss: 0.3952 - val_accuracy: 0.6346\n",
            "Epoch 6/30\n",
            "15/15 [==============================] - 6s 369ms/step - loss: 0.3422 - accuracy: 0.8085 - val_loss: 0.4066 - val_accuracy: 0.8654\n",
            "Epoch 7/30\n",
            "15/15 [==============================] - 6s 371ms/step - loss: 0.3842 - accuracy: 0.8894 - val_loss: 0.5377 - val_accuracy: 0.9038\n",
            "Epoch 8/30\n",
            "15/15 [==============================] - 5s 363ms/step - loss: 0.4217 - accuracy: 0.7447 - val_loss: 0.3871 - val_accuracy: 0.6154\n",
            "Epoch 9/30\n",
            "15/15 [==============================] - 5s 365ms/step - loss: 0.3393 - accuracy: 0.8915 - val_loss: 0.7908 - val_accuracy: 0.6346\n",
            "Epoch 10/30\n",
            "15/15 [==============================] - 6s 369ms/step - loss: 0.2348 - accuracy: 0.9511 - val_loss: 0.0508 - val_accuracy: 1.0000\n",
            "Epoch 11/30\n",
            "15/15 [==============================] - 6s 389ms/step - loss: 0.2684 - accuracy: 0.9191 - val_loss: 0.3627 - val_accuracy: 0.8269\n",
            "Epoch 12/30\n",
            "15/15 [==============================] - 5s 363ms/step - loss: 0.3425 - accuracy: 0.9447 - val_loss: 0.3252 - val_accuracy: 0.9615\n",
            "Epoch 13/30\n",
            "15/15 [==============================] - 5s 364ms/step - loss: 0.2944 - accuracy: 0.9681 - val_loss: 0.2788 - val_accuracy: 0.9615\n",
            "Epoch 14/30\n",
            "15/15 [==============================] - 5s 365ms/step - loss: 0.2479 - accuracy: 0.9766 - val_loss: 0.1702 - val_accuracy: 0.9808\n",
            "Epoch 15/30\n",
            "15/15 [==============================] - 5s 366ms/step - loss: 0.1423 - accuracy: 0.9851 - val_loss: 0.1174 - val_accuracy: 0.9615\n",
            "Epoch 16/30\n",
            "15/15 [==============================] - 5s 366ms/step - loss: 0.1362 - accuracy: 0.9830 - val_loss: 0.2240 - val_accuracy: 0.9423\n",
            "Epoch 17/30\n",
            "15/15 [==============================] - 5s 365ms/step - loss: 0.2006 - accuracy: 0.9596 - val_loss: 0.1234 - val_accuracy: 0.9808\n",
            "Epoch 18/30\n",
            "15/15 [==============================] - 5s 366ms/step - loss: 0.1387 - accuracy: 0.9851 - val_loss: 0.1396 - val_accuracy: 0.9808\n",
            "Epoch 19/30\n",
            "15/15 [==============================] - 5s 361ms/step - loss: 0.4086 - accuracy: 0.9128 - val_loss: 0.3038 - val_accuracy: 0.8846\n",
            "Epoch 20/30\n",
            "15/15 [==============================] - 5s 362ms/step - loss: 0.2527 - accuracy: 0.9894 - val_loss: 0.1284 - val_accuracy: 1.0000\n",
            "Epoch 21/30\n",
            "15/15 [==============================] - 5s 359ms/step - loss: 0.3717 - accuracy: 0.9255 - val_loss: 0.3313 - val_accuracy: 0.9808\n",
            "Epoch 22/30\n",
            "15/15 [==============================] - 5s 362ms/step - loss: 0.3154 - accuracy: 0.9745 - val_loss: 0.3369 - val_accuracy: 1.0000\n",
            "Epoch 23/30\n",
            "15/15 [==============================] - 5s 361ms/step - loss: 0.3052 - accuracy: 0.9702 - val_loss: 0.2798 - val_accuracy: 1.0000\n",
            "Epoch 24/30\n",
            "15/15 [==============================] - 5s 363ms/step - loss: 0.2867 - accuracy: 0.9936 - val_loss: 0.2725 - val_accuracy: 0.9423\n",
            "Epoch 25/30\n",
            "15/15 [==============================] - 5s 362ms/step - loss: 0.2527 - accuracy: 0.9872 - val_loss: 0.1610 - val_accuracy: 1.0000\n",
            "Epoch 26/30\n",
            "15/15 [==============================] - 5s 365ms/step - loss: 0.1258 - accuracy: 0.9936 - val_loss: 0.2192 - val_accuracy: 0.9615\n",
            "Epoch 27/30\n",
            "15/15 [==============================] - 5s 363ms/step - loss: 0.1051 - accuracy: 0.9915 - val_loss: 0.0297 - val_accuracy: 1.0000\n",
            "Epoch 28/30\n",
            "15/15 [==============================] - 5s 364ms/step - loss: 0.1430 - accuracy: 0.9723 - val_loss: 0.0889 - val_accuracy: 1.0000\n",
            "Epoch 29/30\n",
            "15/15 [==============================] - 5s 359ms/step - loss: 0.0981 - accuracy: 0.9915 - val_loss: 0.0397 - val_accuracy: 1.0000\n",
            "Epoch 30/30\n",
            "15/15 [==============================] - 5s 364ms/step - loss: 0.1360 - accuracy: 0.9787 - val_loss: 0.0803 - val_accuracy: 1.0000\n"
          ]
        }
      ],
      "source": [
        "siamese_model = make_siamese_model()\n",
        "siamese_model.compile(loss=tf.keras.losses.binary_crossentropy,optimizer=tf.keras.optimizers.Adam(),metrics=[\"accuracy\"])\n",
        "siamese_history = siamese_model.fit(train_data, epochs=30 , validation_data=test_data)\n",
        "\n"
      ]
    },
    {
      "cell_type": "code",
      "source": [
        "pd.DataFrame(siamese_history.history).plot()"
      ],
      "metadata": {
        "colab": {
          "base_uri": "https://localhost:8080/",
          "height": 283
        },
        "id": "-Ub8ATzTtT-S",
        "outputId": "b43e6714-f7b6-42ad-f203-337d52c3cc8e"
      },
      "execution_count": 171,
      "outputs": [
        {
          "output_type": "execute_result",
          "data": {
            "text/plain": [
              "<matplotlib.axes._subplots.AxesSubplot at 0x7f29017de6d0>"
            ]
          },
          "metadata": {},
          "execution_count": 171
        },
        {
          "output_type": "display_data",
          "data": {
            "text/plain": [
              "<Figure size 432x288 with 1 Axes>"
            ],
            "image/png": "[encoded data removed]"
          },
          "metadata": {
            "needs_background": "light"
          }
        }
      ]
    },
    {
      "cell_type": "code",
      "source": [
        "pd.DataFrame(siamese_history.history)"
      ],
      "metadata": {
        "colab": {
          "base_uri": "https://localhost:8080/",
          "height": 990
        },
        "id": "mcWWSeUvyKTb",
        "outputId": "4dd74212-e2a3-43e9-d4e2-8fca2a66ed94"
      },
      "execution_count": 172,
      "outputs": [
        {
          "output_type": "execute_result",
          "data": {
            "text/plain": [
              "        loss  accuracy  val_loss  val_accuracy\n",
              "0   0.491606  0.602128  0.340356      0.711538\n",
              "1   0.309594  0.825532  0.085443      0.980769\n",
              "2   0.341123  0.774468  0.336881      0.884615\n",
              "3   0.395669  0.791489  0.556587      0.615385\n",
              "4   0.470180  0.661702  0.395180      0.634615\n",
              "5   0.342152  0.808511  0.406642      0.865385\n",
              "6   0.384185  0.889362  0.537680      0.903846\n",
              "7   0.421682  0.744681  0.387094      0.615385\n",
              "8   0.339313  0.891489  0.790842      0.634615\n",
              "9   0.234848  0.951064  0.050847      1.000000\n",
              "10  0.268397  0.919149  0.362694      0.826923\n",
              "11  0.342536  0.944681  0.325193      0.961538\n",
              "12  0.294408  0.968085  0.278833      0.961538\n",
              "13  0.247872  0.976596  0.170235      0.980769\n",
              "14  0.142285  0.985106  0.117434      0.961538\n",
              "15  0.136224  0.982979  0.224013      0.942308\n",
              "16  0.200579  0.959574  0.123408      0.980769\n",
              "17  0.138673  0.985106  0.139606      0.980769\n",
              "18  0.408596  0.912766  0.303793      0.884615\n",
              "19  0.252662  0.989362  0.128420      1.000000\n",
              "20  0.371726  0.925532  0.331329      0.980769\n",
              "21  0.315384  0.974468  0.336862      1.000000\n",
              "22  0.305160  0.970213  0.279777      1.000000\n",
              "23  0.286746  0.993617  0.272532      0.942308\n",
              "24  0.252688  0.987234  0.160998      1.000000\n",
              "25  0.125775  0.993617  0.219199      0.961538\n",
              "26  0.105139  0.991489  0.029720      1.000000\n",
              "27  0.143009  0.972340  0.088872      1.000000\n",
              "28  0.098099  0.991489  0.039733      1.000000\n",
              "29  0.135958  0.978723  0.080305      1.000000"
            ],
            "text/html": [
              "\n",
              "  <div id=\"df-a2f9cb20-35a8-43a1-920c-4444a1ef796f\">\n",
              "    <div class=\"colab-df-container\">\n",
              "      <div>\n",
              "<style scoped>\n",
              "    .dataframe tbody tr th:only-of-type {\n",
              "        vertical-align: middle;\n",
              "    }\n",
              "\n",
              "    .dataframe tbody tr th {\n",
              "        vertical-align: top;\n",
              "    }\n",
              "\n",
              "    .dataframe thead th {\n",
              "        text-align: right;\n",
              "    }\n",
              "</style>\n",
              "<table border=\"1\" class=\"dataframe\">\n",
              "  <thead>\n",
              "    <tr style=\"text-align: right;\">\n",
              "      <th></th>\n",
              "      <th>loss</th>\n",
              "      <th>accuracy</th>\n",
              "      <th>val_loss</th>\n",
              "      <th>val_accuracy</th>\n",
              "    </tr>\n",
              "  </thead>\n",
              "  <tbody>\n",
              "    <tr>\n",
              "      <th>0</th>\n",
              "      <td>0.491606</td>\n",
              "      <td>0.602128</td>\n",
              "      <td>0.340356</td>\n",
              "      <td>0.711538</td>\n",
              "    </tr>\n",
              "    <tr>\n",
              "      <th>1</th>\n",
              "      <td>0.309594</td>\n",
              "      <td>0.825532</td>\n",
              "      <td>0.085443</td>\n",
              "      <td>0.980769</td>\n",
              "    </tr>\n",
              "    <tr>\n",
              "      <th>2</th>\n",
              "      <td>0.341123</td>\n",
              "      <td>0.774468</td>\n",
              "      <td>0.336881</td>\n",
              "      <td>0.884615</td>\n",
              "    </tr>\n",
              "    <tr>\n",
              "      <th>3</th>\n",
              "      <td>0.395669</td>\n",
              "      <td>0.791489</td>\n",
              "      <td>0.556587</td>\n",
              "      <td>0.615385</td>\n",
              "    </tr>\n",
              "    <tr>\n",
              "      <th>4</th>\n",
              "      <td>0.470180</td>\n",
              "      <td>0.661702</td>\n",
              "      <td>0.395180</td>\n",
              "      <td>0.634615</td>\n",
              "    </tr>\n",
              "    <tr>\n",
              "      <th>5</th>\n",
              "      <td>0.342152</td>\n",
              "      <td>0.808511</td>\n",
              "      <td>0.406642</td>\n",
              "      <td>0.865385</td>\n",
              "    </tr>\n",
              "    <tr>\n",
              "      <th>6</th>\n",
              "      <td>0.384185</td>\n",
              "      <td>0.889362</td>\n",
              "      <td>0.537680</td>\n",
              "      <td>0.903846</td>\n",
              "    </tr>\n",
              "    <tr>\n",
              "      <th>7</th>\n",
              "      <td>0.421682</td>\n",
              "      <td>0.744681</td>\n",
              "      <td>0.387094</td>\n",
              "      <td>0.615385</td>\n",
              "    </tr>\n",
              "    <tr>\n",
              "      <th>8</th>\n",
              "      <td>0.339313</td>\n",
              "      <td>0.891489</td>\n",
              "      <td>0.790842</td>\n",
              "      <td>0.634615</td>\n",
              "    </tr>\n",
              "    <tr>\n",
              "      <th>9</th>\n",
              "      <td>0.234848</td>\n",
              "      <td>0.951064</td>\n",
              "      <td>0.050847</td>\n",
              "      <td>1.000000</td>\n",
              "    </tr>\n",
              "    <tr>\n",
              "      <th>10</th>\n",
              "      <td>0.268397</td>\n",
              "      <td>0.919149</td>\n",
              "      <td>0.362694</td>\n",
              "      <td>0.826923</td>\n",
              "    </tr>\n",
              "    <tr>\n",
              "      <th>11</th>\n",
              "      <td>0.342536</td>\n",
              "      <td>0.944681</td>\n",
              "      <td>0.325193</td>\n",
              "      <td>0.961538</td>\n",
              "    </tr>\n",
              "    <tr>\n",
              "      <th>12</th>\n",
              "      <td>0.294408</td>\n",
              "      <td>0.968085</td>\n",
              "      <td>0.278833</td>\n",
              "      <td>0.961538</td>\n",
              "    </tr>\n",
              "    <tr>\n",
              "      <th>13</th>\n",
              "      <td>0.247872</td>\n",
              "      <td>0.976596</td>\n",
              "      <td>0.170235</td>\n",
              "      <td>0.980769</td>\n",
              "    </tr>\n",
              "    <tr>\n",
              "      <th>14</th>\n",
              "      <td>0.142285</td>\n",
              "      <td>0.985106</td>\n",
              "      <td>0.117434</td>\n",
              "      <td>0.961538</td>\n",
              "    </tr>\n",
              "    <tr>\n",
              "      <th>15</th>\n",
              "      <td>0.136224</td>\n",
              "      <td>0.982979</td>\n",
              "      <td>0.224013</td>\n",
              "      <td>0.942308</td>\n",
              "    </tr>\n",
              "    <tr>\n",
              "      <th>16</th>\n",
              "      <td>0.200579</td>\n",
              "      <td>0.959574</td>\n",
              "      <td>0.123408</td>\n",
              "      <td>0.980769</td>\n",
              "    </tr>\n",
              "    <tr>\n",
              "      <th>17</th>\n",
              "      <td>0.138673</td>\n",
              "      <td>0.985106</td>\n",
              "      <td>0.139606</td>\n",
              "      <td>0.980769</td>\n",
              "    </tr>\n",
              "    <tr>\n",
              "      <th>18</th>\n",
              "      <td>0.408596</td>\n",
              "      <td>0.912766</td>\n",
              "      <td>0.303793</td>\n",
              "      <td>0.884615</td>\n",
              "    </tr>\n",
              "    <tr>\n",
              "      <th>19</th>\n",
              "      <td>0.252662</td>\n",
              "      <td>0.989362</td>\n",
              "      <td>0.128420</td>\n",
              "      <td>1.000000</td>\n",
              "    </tr>\n",
              "    <tr>\n",
              "      <th>20</th>\n",
              "      <td>0.371726</td>\n",
              "      <td>0.925532</td>\n",
              "      <td>0.331329</td>\n",
              "      <td>0.980769</td>\n",
              "    </tr>\n",
              "    <tr>\n",
              "      <th>21</th>\n",
              "      <td>0.315384</td>\n",
              "      <td>0.974468</td>\n",
              "      <td>0.336862</td>\n",
              "      <td>1.000000</td>\n",
              "    </tr>\n",
              "    <tr>\n",
              "      <th>22</th>\n",
              "      <td>0.305160</td>\n",
              "      <td>0.970213</td>\n",
              "      <td>0.279777</td>\n",
              "      <td>1.000000</td>\n",
              "    </tr>\n",
              "    <tr>\n",
              "      <th>23</th>\n",
              "      <td>0.286746</td>\n",
              "      <td>0.993617</td>\n",
              "      <td>0.272532</td>\n",
              "      <td>0.942308</td>\n",
              "    </tr>\n",
              "    <tr>\n",
              "      <th>24</th>\n",
              "      <td>0.252688</td>\n",
              "      <td>0.987234</td>\n",
              "      <td>0.160998</td>\n",
              "      <td>1.000000</td>\n",
              "    </tr>\n",
              "    <tr>\n",
              "      <th>25</th>\n",
              "      <td>0.125775</td>\n",
              "      <td>0.993617</td>\n",
              "      <td>0.219199</td>\n",
              "      <td>0.961538</td>\n",
              "    </tr>\n",
              "    <tr>\n",
              "      <th>26</th>\n",
              "      <td>0.105139</td>\n",
              "      <td>0.991489</td>\n",
              "      <td>0.029720</td>\n",
              "      <td>1.000000</td>\n",
              "    </tr>\n",
              "    <tr>\n",
              "      <th>27</th>\n",
              "      <td>0.143009</td>\n",
              "      <td>0.972340</td>\n",
              "      <td>0.088872</td>\n",
              "      <td>1.000000</td>\n",
              "    </tr>\n",
              "    <tr>\n",
              "      <th>28</th>\n",
              "      <td>0.098099</td>\n",
              "      <td>0.991489</td>\n",
              "      <td>0.039733</td>\n",
              "      <td>1.000000</td>\n",
              "    </tr>\n",
              "    <tr>\n",
              "      <th>29</th>\n",
              "      <td>0.135958</td>\n",
              "      <td>0.978723</td>\n",
              "      <td>0.080305</td>\n",
              "      <td>1.000000</td>\n",
              "    </tr>\n",
              "  </tbody>\n",
              "</table>\n",
              "</div>\n",
              "      <button class=\"colab-df-convert\" onclick=\"convertToInteractive('df-a2f9cb20-35a8-43a1-920c-4444a1ef796f')\"\n",
              "              title=\"Convert this dataframe to an interactive table.\"\n",
              "              style=\"display:none;\">\n",
              "        \n",
              "  <svg xmlns=\"http://www.w3.org/2000/svg\" height=\"24px\"viewBox=\"0 0 24 24\"\n",
              "       width=\"24px\">\n",
              "    <path d=\"M0 0h24v24H0V0z\" fill=\"none\"/>\n",
              "    <path d=\"M18.56 5.44l.94 2.06.94-2.06 2.06-.94-2.06-.94-.94-2.06-.94 2.06-2.06.94zm-11 1L8.5 8.5l.94-2.06 2.06-.94-2.06-.94L8.5 2.5l-.94 2.06-2.06.94zm10 10l.94 2.06.94-2.06 2.06-.94-2.06-.94-.94-2.06-.94 2.06-2.06.94z\"/><path d=\"M17.41 7.96l-1.37-1.37c-.4-.4-.92-.59-1.43-.59-.52 0-1.04.2-1.43.59L10.3 9.45l-7.72 7.72c-.78.78-.78 2.05 0 2.83L4 21.41c.39.39.9.59 1.41.59.51 0 1.02-.2 1.41-.59l7.78-7.78 2.81-2.81c.8-.78.8-2.07 0-2.86zM5.41 20L4 18.59l7.72-7.72 1.47 1.35L5.41 20z\"/>\n",
              "  </svg>\n",
              "      </button>\n",
              "      \n",
              "  <style>\n",
              "    .colab-df-container {\n",
              "      display:flex;\n",
              "      flex-wrap:wrap;\n",
              "      gap: 12px;\n",
              "    }\n",
              "\n",
              "    .colab-df-convert {\n",
              "      background-color: #E8F0FE;\n",
              "      border: none;\n",
              "      border-radius: 50%;\n",
              "      cursor: pointer;\n",
              "      display: none;\n",
              "      fill: #1967D2;\n",
              "      height: 32px;\n",
              "      padding: 0 0 0 0;\n",
              "      width: 32px;\n",
              "    }\n",
              "\n",
              "    .colab-df-convert:hover {\n",
              "      background-color: #E2EBFA;\n",
              "      box-shadow: 0px 1px 2px rgba(60, 64, 67, 0.3), 0px 1px 3px 1px rgba(60, 64, 67, 0.15);\n",
              "      fill: #174EA6;\n",
              "    }\n",
              "\n",
              "    [theme=dark] .colab-df-convert {\n",
              "      background-color: #3B4455;\n",
              "      fill: #D2E3FC;\n",
              "    }\n",
              "\n",
              "    [theme=dark] .colab-df-convert:hover {\n",
              "      background-color: #434B5C;\n",
              "      box-shadow: 0px 1px 3px 1px rgba(0, 0, 0, 0.15);\n",
              "      filter: drop-shadow(0px 1px 2px rgba(0, 0, 0, 0.3));\n",
              "      fill: #FFFFFF;\n",
              "    }\n",
              "  </style>\n",
              "\n",
              "      <script>\n",
              "        const buttonEl =\n",
              "          document.querySelector('#df-a2f9cb20-35a8-43a1-920c-4444a1ef796f button.colab-df-convert');\n",
              "        buttonEl.style.display =\n",
              "          google.colab.kernel.accessAllowed ? 'block' : 'none';\n",
              "\n",
              "        async function convertToInteractive(key) {\n",
              "          const element = document.querySelector('#df-a2f9cb20-35a8-43a1-920c-4444a1ef796f');\n",
              "          const dataTable =\n",
              "            await google.colab.kernel.invokeFunction('convertToInteractive',\n",
              "                                                     [key], {});\n",
              "          if (!dataTable) return;\n",
              "\n",
              "          const docLinkHtml = 'Like what you see? Visit the ' +\n",
              "            '<a target=\"_blank\" href=https://colab.research.google.com/notebooks/data_table.ipynb>data table notebook</a>'\n",
              "            + ' to learn more about interactive tables.';\n",
              "          element.innerHTML = '';\n",
              "          dataTable['output_type'] = 'display_data';\n",
              "          await google.colab.output.renderOutput(dataTable, element);\n",
              "          const docLink = document.createElement('div');\n",
              "          docLink.innerHTML = docLinkHtml;\n",
              "          element.appendChild(docLink);\n",
              "        }\n",
              "      </script>\n",
              "    </div>\n",
              "  </div>\n",
              "  "
            ]
          },
          "metadata": {},
          "execution_count": 172
        }
      ]
    },
    {
      "cell_type": "code",
      "source": [
        "siamese_model.evaluate(test_data)"
      ],
      "metadata": {
        "colab": {
          "base_uri": "https://localhost:8080/"
        },
        "id": "k2teDTshyNpe",
        "outputId": "14f43130-cae8-46ac-bb4d-c8bcbccba865"
      },
      "execution_count": 173,
      "outputs": [
        {
          "output_type": "stream",
          "name": "stdout",
          "text": [
            "2/2 [==============================] - 1s 107ms/step - loss: 0.0650 - accuracy: 1.0000\n"
          ]
        },
        {
          "output_type": "execute_result",
          "data": {
            "text/plain": [
              "[0.06498409062623978, 1.0]"
            ]
          },
          "metadata": {},
          "execution_count": 173
        }
      ]
    },
    {
      "cell_type": "code",
      "source": [
        "plt.imshow"
      ],
      "metadata": {
        "colab": {
          "base_uri": "https://localhost:8080/"
        },
        "id": "oVydCJG3yPyd",
        "outputId": "3602290b-085f-4711-e95f-5ca24939c6d2"
      },
      "execution_count": 174,
      "outputs": [
        {
          "output_type": "execute_result",
          "data": {
            "text/plain": [
              "<function matplotlib.pyplot.imshow(X, cmap=None, norm=None, aspect=None, interpolation=None, alpha=None, vmin=None, vmax=None, origin=None, extent=None, shape=<deprecated parameter>, filternorm=1, filterrad=4.0, imlim=<deprecated parameter>, resample=None, url=None, *, data=None, **kwargs)>"
            ]
          },
          "metadata": {},
          "execution_count": 174
        }
      ]
    },
    {
      "cell_type": "code",
      "source": [
        "# Save weights\n",
        "siamese_model.save('siamesemodel')"
      ],
      "metadata": {
        "id": "9wsLW2gyyRsi"
      },
      "execution_count": null,
      "outputs": []
    },
    {
      "cell_type": "code",
      "source": [
        "tf.keras.utils.plot_model(siamese_model)"
      ],
      "metadata": {
        "colab": {
          "base_uri": "https://localhost:8080/",
          "height": 369
        },
        "id": "9XB1YqPIyXDM",
        "outputId": "636e210f-5f2e-4438-b9c6-7341a11bea54"
      },
      "execution_count": 175,
      "outputs": [
        {
          "output_type": "execute_result",
          "data": {
            "image/png": "[encoded data removed]",
            "text/plain": [
              "<IPython.core.display.Image object>"
            ]
          },
          "metadata": {},
          "execution_count": 175
        }
      ]
    },
    {
      "cell_type": "code",
      "source": [],
      "metadata": {
        "id": "HQzo2AbpyXXy"
      },
      "execution_count": null,
      "outputs": []
    }
  ],
  "metadata": {
    "accelerator": "GPU",
    "colab": {
      "provenance": [],
      "mount_file_id": "1O9cTE5QaMihTZT6UYEuFZThIeEREvqBy",
      "authorship_tag": "ABX9TyMdgPRLuDcFPq9pjoHQXYGA",
      "include_colab_link": true
    },
    "gpuClass": "standard",
    "kernelspec": {
      "display_name": "Python 3",
      "name": "python3"
    },
    "language_info": {
      "name": "python"
    }
  },
  "nbformat": 4,
  "nbformat_minor": 0
}